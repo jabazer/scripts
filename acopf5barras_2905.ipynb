{
  "nbformat": 4,
  "nbformat_minor": 0,
  "metadata": {
    "colab": {
      "name": "acopf5barras_2905.ipynb",
      "version": "0.3.2",
      "provenance": [],
      "collapsed_sections": [],
      "include_colab_link": true
    },
    "kernelspec": {
      "name": "python3",
      "display_name": "Python 3"
    }
  },
  "cells": [
    {
      "cell_type": "markdown",
      "metadata": {
        "id": "view-in-github",
        "colab_type": "text"
      },
      "source": [
        "<a href=\"https://colab.research.google.com/github/opf-ute/scripts/blob/master/acopf5barras_2905.ipynb\" target=\"_parent\"><img src=\"https://colab.research.google.com/assets/colab-badge.svg\" alt=\"Open In Colab\"/></a>"
      ]
    },
    {
      "cell_type": "markdown",
      "metadata": {
        "id": "fyHK-cAGeFGw",
        "colab_type": "text"
      },
      "source": [
        "Se quiere modelar y resolver el problema de flujo óptimo para el sistema representado por el unifilar de la figura. Se utilizará el modelo AC-OPF (BIM)\n",
        "\n"
      ]
    },
    {
      "cell_type": "code",
      "metadata": {
        "id": "OSWLje0xJ3G9",
        "colab_type": "code",
        "outputId": "56949705-3123-468b-fcb6-059c9e1575eb",
        "colab": {
          "base_uri": "https://localhost:8080/",
          "height": 452
        }
      },
      "source": [
        "from IPython.display import Image\n",
        "from IPython.core.display import HTML \n",
        "\n",
        "Image(url= \"https://drive.google.com/uc?id=1zKqS2zehsZ2IxdM8sdNr7CHbdVfmTxtW\", width=750)\n",
        "\n",
        "\n"
      ],
      "execution_count": 0,
      "outputs": [
        {
          "output_type": "execute_result",
          "data": {
            "text/html": [
              "<img src=\"https://drive.google.com/uc?id=1zKqS2zehsZ2IxdM8sdNr7CHbdVfmTxtW\" width=\"750\"/>"
            ],
            "text/plain": [
              "<IPython.core.display.Image object>"
            ]
          },
          "metadata": {
            "tags": []
          },
          "execution_count": 2
        }
      ]
    },
    {
      "cell_type": "code",
      "metadata": {
        "id": "SOHdGPaOHY9D",
        "colab_type": "code",
        "outputId": "ae508063-b57f-4108-87e8-ed14b0324625",
        "colab": {
          "base_uri": "https://localhost:8080/",
          "height": 581
        }
      },
      "source": [
        "!pip install cvxpy\n",
        "!pip install git+https://github.com/cvxgrp/cvxpy.git"
      ],
      "execution_count": 0,
      "outputs": [
        {
          "output_type": "stream",
          "text": [
            "Requirement already satisfied: cvxpy in /usr/local/lib/python3.6/dist-packages (1.0.15)\n",
            "Requirement already satisfied: osqp in /usr/local/lib/python3.6/dist-packages (from cvxpy) (0.5.0)\n",
            "Requirement already satisfied: fastcache in /usr/local/lib/python3.6/dist-packages (from cvxpy) (1.1.0)\n",
            "Requirement already satisfied: multiprocess in /usr/local/lib/python3.6/dist-packages (from cvxpy) (0.70.7)\n",
            "Requirement already satisfied: six in /usr/local/lib/python3.6/dist-packages (from cvxpy) (1.12.0)\n",
            "Requirement already satisfied: scipy>=1.1.0 in /usr/local/lib/python3.6/dist-packages (from cvxpy) (1.3.0)\n",
            "Requirement already satisfied: scs>=1.1.3 in /usr/local/lib/python3.6/dist-packages (from cvxpy) (2.1.0)\n",
            "Requirement already satisfied: numpy>=1.14 in /usr/local/lib/python3.6/dist-packages (from cvxpy) (1.16.4)\n",
            "Requirement already satisfied: ecos>=2 in /usr/local/lib/python3.6/dist-packages (from cvxpy) (2.0.7.post1)\n",
            "Requirement already satisfied: future in /usr/local/lib/python3.6/dist-packages (from osqp->cvxpy) (0.16.0)\n",
            "Requirement already satisfied: dill>=0.2.9 in /usr/local/lib/python3.6/dist-packages (from multiprocess->cvxpy) (0.2.9)\n",
            "Collecting git+https://github.com/cvxgrp/cvxpy.git\n",
            "  Cloning https://github.com/cvxgrp/cvxpy.git to /tmp/pip-req-build-9d498kkh\n",
            "  Running command git clone -q https://github.com/cvxgrp/cvxpy.git /tmp/pip-req-build-9d498kkh\n",
            "Requirement already satisfied: osqp>=0.4.1 in /usr/local/lib/python3.6/dist-packages (from cvxpy==1.0.24) (0.5.0)\n",
            "Requirement already satisfied: ecos>=2 in /usr/local/lib/python3.6/dist-packages (from cvxpy==1.0.24) (2.0.7.post1)\n",
            "Requirement already satisfied: scs>=1.1.3 in /usr/local/lib/python3.6/dist-packages (from cvxpy==1.0.24) (2.1.0)\n",
            "Requirement already satisfied: multiprocess in /usr/local/lib/python3.6/dist-packages (from cvxpy==1.0.24) (0.70.7)\n",
            "Requirement already satisfied: six in /usr/local/lib/python3.6/dist-packages (from cvxpy==1.0.24) (1.12.0)\n",
            "Requirement already satisfied: numpy>=1.15 in /usr/local/lib/python3.6/dist-packages (from cvxpy==1.0.24) (1.16.4)\n",
            "Requirement already satisfied: scipy>=1.1.0 in /usr/local/lib/python3.6/dist-packages (from cvxpy==1.0.24) (1.3.0)\n",
            "Requirement already satisfied: future in /usr/local/lib/python3.6/dist-packages (from osqp>=0.4.1->cvxpy==1.0.24) (0.16.0)\n",
            "Requirement already satisfied: dill>=0.2.9 in /usr/local/lib/python3.6/dist-packages (from multiprocess->cvxpy==1.0.24) (0.2.9)\n",
            "Building wheels for collected packages: cvxpy\n",
            "  Building wheel for cvxpy (setup.py) ... \u001b[?25l\u001b[?25hdone\n",
            "  Stored in directory: /tmp/pip-ephem-wheel-cache-musy96d0/wheels/0e/7c/42/bc3294fba335fafe64e2ae05be0ce1b671bbe20244056cecae\n",
            "Successfully built cvxpy\n",
            "Installing collected packages: cvxpy\n",
            "  Found existing installation: cvxpy 1.0.15\n",
            "    Uninstalling cvxpy-1.0.15:\n",
            "      Successfully uninstalled cvxpy-1.0.15\n",
            "Successfully installed cvxpy-1.0.24\n"
          ],
          "name": "stdout"
        }
      ]
    },
    {
      "cell_type": "markdown",
      "metadata": {
        "id": "fjpF-JIKn5TN",
        "colab_type": "text"
      },
      "source": [
        "Bus Injection Model (BIM):\n",
        "\n",
        "$$\\mathbf{I}=\\mathbf{Y}\\mathbf{V}$$\n",
        "\n",
        "\n",
        "$$\\begin{bmatrix}\n",
        "I_1\\\\\n",
        "I_2\\\\\n",
        "\\vdots\\\\\n",
        "I_N\\end{bmatrix} = \\begin{bmatrix}\\ddots&&\\\\&Y_{kk}&Y_{ki}\\\\&&\\ddots\\end{bmatrix}\\begin{bmatrix}\n",
        "V_1\\\\\n",
        "V_2\\\\\n",
        "\\vdots\\\\\n",
        "V_N\\end{bmatrix}$$\n",
        "\n",
        "\n",
        "Donde $\\mathbf{Y}$ es la matriz de admitancias con entradas\n",
        "\n",
        "$$\\left\\{\\begin{array}{lll}\n",
        "Y_{kk}=&y_k+\\sum_{i\\sim k}y_{ki}&\\\\\n",
        "Y_{ki}=&-y_{ki}&\\text{si } k\\sim i\\\\\n",
        "Y_{ki}=&0&\\text{en otro caso}\n",
        "\\end{array}\\right.$$\n",
        "\n",
        "\n",
        "Sea $Y_k$ la matriz que solamente contiene la k-esima fila de $Y$. Puede escribirse como\n",
        "\n",
        "$$Y_k = E_k Y$$\n",
        "\n",
        "Donde $E_k$ es cero salvo en la entrada $kk$, donde es $1$.\n",
        "\n",
        "Se cumple\n",
        " \n",
        " $$Y^*_k=\\left(\\frac{Y^*_k+Y_k}{2}\\right)+j\\left(\\frac{Y^*_k-Y_k}{2j}\\right)=\\Phi_k+j\\Psi_k$$\n",
        " \n",
        " La potencia aparente inyectada en cada barra resulta\n",
        " \n",
        " \n",
        " $$\\boxed{s_k = V\\Phi_k V^*+jV^*\\Psi_k V}$$\n",
        "\n",
        "<hr>\n",
        " \n",
        " \n",
        "Matriz de incidencia:\n",
        "\n",
        "$$\n",
        "A=\\begin{bmatrix}\n",
        "    0  & 0 & 0 & -1 & 1 \\\\\n",
        "   -1  & 0 & 0 & 0 & 1 \\\\\n",
        "   1  & 0 & 0 & -1 & 0 \\\\\n",
        "   0  & 0 & -1 &1 & 0 \\\\\n",
        "   1  & -1 & 0 & 0 & 0 \\\\\n",
        "   0  & -1 & 1 & 0 & 0 \\\\\n",
        "\\end{bmatrix}\n",
        "$$\n",
        "\n",
        "Reactancias de linea:\n",
        "\n",
        "$$\n",
        "X=\\begin{bmatrix}\n",
        "    x_{54}  & 0 & 0 & 0 & 0 & 0\\\\\n",
        "   0  & x_{51} & 0 & 0 & 0 & 0\\\\\n",
        "   0  & 0 & x_{14} &  0 & 0 & 0 \\\\\n",
        "   0  & 0 & 0 & x_{43} & 0 & 0 \\\\\n",
        "   0  & 0 & 0 & 0 & x_{12} & 0 \\\\\n",
        "   0  & 0 & 0 & 0 & 0 & x_{32} \\\\\n",
        "\\end{bmatrix}\n",
        "$$\n",
        "\n",
        "con $x_{12}=0.0281$, $x_{23}=0.0108$, $x_{34}=0.0297$, $x_{45}=0.0297$, $x_{14}=0.0304$, $x_{15}=0.0064$ (en p.u.).\n",
        "\n",
        "\n",
        "\n"
      ]
    },
    {
      "cell_type": "code",
      "metadata": {
        "id": "nsR7bIN5yDDl",
        "colab_type": "code",
        "outputId": "f38500a5-d8b2-4694-a596-53a5d9affcfa",
        "colab": {
          "base_uri": "https://localhost:8080/",
          "height": 471
        }
      },
      "source": [
        "Image(url= \"https://drive.google.com/uc?id=1uoDeKu9d-sZhFM3R-2gmdplqNirh0cFf\", width=750)\n"
      ],
      "execution_count": 0,
      "outputs": [
        {
          "output_type": "execute_result",
          "data": {
            "text/html": [
              "<img src=\"https://drive.google.com/uc?id=1uoDeKu9d-sZhFM3R-2gmdplqNirh0cFf\" width=\"750\"/>"
            ],
            "text/plain": [
              "<IPython.core.display.Image object>"
            ]
          },
          "metadata": {
            "tags": []
          },
          "execution_count": 4
        }
      ]
    },
    {
      "cell_type": "markdown",
      "metadata": {
        "id": "bjeK0MBeybxb",
        "colab_type": "text"
      },
      "source": [
        "Luego el flujo de carga óptimo para esta red puede obtenerse con el siguiente codigo en CVXPY\n"
      ]
    },
    {
      "cell_type": "code",
      "metadata": {
        "colab_type": "code",
        "id": "ZxNP2uruteMQ",
        "colab": {}
      },
      "source": [
        "# Import packages.\n",
        "import cvxpy as cp\n",
        "import numpy as np\n",
        "\n"
      ],
      "execution_count": 0,
      "outputs": []
    },
    {
      "cell_type": "code",
      "metadata": {
        "id": "2jWc_dNFmG3y",
        "colab_type": "code",
        "outputId": "67318993-054c-4958-aa06-f3844a0c5e9c",
        "colab": {
          "base_uri": "https://localhost:8080/",
          "height": 918
        }
      },
      "source": [
        "# Modelo de cinco barras a modificar\n",
        "Sbase = 100 # MVA\n",
        "M=6\n",
        "N=5\n",
        "# Matriz de incidencia\n",
        "A=np.array([[0, 0, 0, -1, 1],\n",
        "            [-1, 0, 0, 0, 1],\n",
        "            [1, 0, 0, -1, 0],\n",
        "            [0, 0, -1, 1, 0],\n",
        "            [1, -1, 0, 0, 0],\n",
        "            [0, -1, 1, 0, 0] ]) \n",
        "\n",
        "# Reactancias en pu\n",
        "x54 = 0.0297;\n",
        "x51 = 0.0064;\n",
        "x14 = 0.0304;\n",
        "x43 = 0.0297;\n",
        "x12 = 0.0281;\n",
        "x32 = 0.0108;\n",
        "\n",
        "X=np.array([[x54,0,0,0,0,0],\n",
        "               [0,x51,0,0,0,0],\n",
        "               [0,0,x14,0,0,0],\n",
        "               [0,0,0,x43,0,0],\n",
        "               [0,0,0,0,x12,0],\n",
        "               [0,0,0,0,0,x32]])\n",
        "\n",
        "R=X/100\n",
        "Z=R+1j*X\n",
        "\n",
        "#X=1j*np.array([[x54,0,0,0,0,0],\n",
        " #              [0,x51,0,0,0,0],\n",
        "  #             [0,0,x14,0,0,0],\n",
        "   #            [0,0,0,x43,0,0],\n",
        "    #           [0,0,0,0,x12,0],\n",
        "     #          [0,0,0,0,0,x32]])\n",
        "\n",
        "\n",
        "#H=np.linalg.inv(X)@A\n",
        "H=np.linalg.inv(Z)@A\n",
        "\n",
        "Y = A.transpose()@H\n",
        "Y = np.array(Y)\n",
        "\n",
        "\n",
        "# ----------------------------\n",
        "# Caracteristicas del problema\n",
        "# ----------------------------\n",
        "d = np.array([0,300,300,400,0]) / Sbase # Demanda\n",
        "plmax = np.array([240,400,400,400,400,400]) / Sbase # Limite lineas\n",
        "gmax = np.array([40,170,520,200,600]) / Sbase # Limite generacion\n",
        "c = np.array([14,15,30,40,10]) # Costo\n",
        "\n",
        "# G2pg pasa de generadores a generacion por barra:\n",
        "# pg = G2pg * g\n",
        "G2pg=np.array([[1,1,0,0,0],\n",
        "               [0,0,0,0,0],\n",
        "               [0,0,1,0,0],\n",
        "               [0,0,0,1,0],\n",
        "               [0,0,0,0,1]])\n",
        "\n",
        "\n",
        "\n",
        "# --------------------------\n",
        "# Crear matrices hermiticas\n",
        "# --------------------------\n",
        "\n",
        "# Asociadas al balance de cada nodo\n",
        "# ---------------------------------\n",
        "E = np.zeros([5,5,5])\n",
        "y = np.zeros([5,5,5], dtype=np.complex64)\n",
        "Phi = np.zeros([5,5,5], dtype=np.complex64)\n",
        "Psi = np.zeros([5,5,5], dtype=np.complex64)\n",
        "                                  \n",
        "\n",
        "for k in range(0,5):\n",
        "  E[k,k,k] = 1 # Todo ceros salvo en el kk-esimo elemento\n",
        "  y[k] = E[k] @ Y # y[k] tiene en su k-esima fila la k-esima fila de Y\n",
        "  Phi[k] = .5 * (np.matrix(y[k]) + np.matrix(y[k]).H) \n",
        "  Psi[k] = .5 /(1j) * (-np.matrix(y[k]) + np.matrix(y[k]).H)\n",
        "\n",
        "\n",
        "\n",
        "# ---------------------------------------  \n",
        "# Asociadas a las restricciones en lineas\n",
        "# ---------------------------------------\n",
        "D = [(4,3), (4,0), (0,3), (3,2), (0,1), (2,1)] #Linea 1 conecta (4->3); Linea 2 conecta (4->0), etc.\n",
        "\n",
        "ek = [[0,0,0,0,1], # linea 1 sale de barra 5\n",
        "      [0,0,0,0,1], # linea 2 sale de barra 5\n",
        "      [1,0,0,0,0], # Linea 3 sale de barra 1 ...\n",
        "      [0,0,0,1,0],\n",
        "      [1,0,0,0,0],\n",
        "      [0,0,1,0,0]]\n",
        "\n",
        "# Matrices de restricciones en las lineas\n",
        "M = np.zeros([6,5,5], dtype=np.complex64)                 \n",
        "N = np.zeros([6,5,5], dtype=np.complex64)\n",
        "\n",
        "for k in range(0,6):\n",
        "  Yki = np.conj(Y[D[k]]) * np.outer(A[k], ek[k])  \n",
        "  M[k] = .5 * (np.matrix(Yki) + np.matrix(Yki).H)  \n",
        "  N[k] = .5 * (-np.matrix(Yki) + np.matrix(Yki).H)  \n",
        "\n",
        "\n",
        "\n",
        "                 \n",
        "#for k in range(0,5):\n",
        "#  print('Phi[',k,'] es hermitica : ', np.allclose(np.matrix(Phi[k]),np.matrix(Phi[k]).H))\n",
        "\n",
        "# C0 = c[0]*Phi[0] + c[1]*Phi[1] + c[2]*Phi[2] + c[3]*Phi[3] + c[4]*Phi[4]\n",
        "                               \n",
        "\n",
        "  \n",
        "  \n",
        "  \n",
        "# ------------------\n",
        "# Variables de CVXPY\n",
        "# ------------------\n",
        "pb = cp.Variable(5) # potencia neta inyectada en las barras = pg-d\n",
        "g = cp.Variable(5) # potencia de cada generador \n",
        "pl = cp.Variable(6) # potencia por las líneas\n",
        "pg = cp.Variable(5) # potencias inyectadas por los generadores en las barras; pg = G2pg*g\n",
        "\n",
        "W = cp.Variable((5,5), hermitian=True) # Matriz hermitica, (con suerte) Rank=1\n",
        "X = cp.Variable((5,5))\n",
        "Y = cp.Variable((5,5))\n",
        "\n",
        "#cost = cp.trace(A*X - B*Y)\n",
        "cost = (c*g)\n",
        "\n",
        "constraints = [G2pg*g == pg, pb==pg-d, g>=0 , g<=gmax,  W>>0]#, pl <= plmax, pl >= -plmax]\n",
        "constraints.append(X == cp.real(W))\n",
        "constraints.append(Y == cp.imag(W))\n",
        "\n",
        "\n",
        "# Balance por nodo\n",
        "for k in range(0,5):\n",
        "  Phir = np.real(Phi[k])\n",
        "  Phii = np.imag(Phi[k])\n",
        "  constraints.append(cp.trace(Phir*X - Phii*Y) == pb[k])\n",
        "  constraints.append(X[k,k]<=1.1)\n",
        "# Restricciones de linea\n",
        "#for k in range(0,6):\n",
        "  #Mr = np.real(M[k])\n",
        "  #Mi = np.imag(M[k])\n",
        "  #constraints.append(cp.trace(Mr*X - Mi*Y) == -pl[k])\n",
        "  \n",
        "#constraints.append(cp.diag(X)<=1.1)\n",
        "#constraints.append(cp.diag(X)>=.9)\n",
        "\n",
        "prob = cp.Problem(cp.Minimize(cost),constraints)\n",
        "\n",
        "prob.solve(verbose=True) #Poniendo verbose=False se oculta el Solver\n",
        "\n",
        "\n",
        "\n",
        "\n",
        "# ------------------\n",
        "# MOSTRAR RESULTADOS\n",
        "# ------------------\n",
        "\n",
        "print()\n",
        "print()\n",
        "print('RESULTADOS:')\n",
        "print(\"El costo óptimo es\", prob.value*100)\n",
        "print()\n",
        "print('La generacion optima es', g.value*100)\n",
        "print('La generacion por barra es', pg.value*100)\n",
        "print('pb es', pb.value*100)\n",
        "print(\"En cada barra, se inyecta\", pb.value*100)\n",
        "#print('El flujo de activa por las lineas es:', pl.value*100)\n",
        "\n",
        "\n",
        "print()\n",
        "print()\n",
        "#print('Multiplicadores de Lagrange:')\n",
        "#for k in range(0,7):\n",
        "#  print(constraints[k].dual_value)\n",
        "#print(np.allclose(W.value,np.matrix(W.value).H))\n",
        "#print(W.value)\n",
        "print('Checkeo: W rango 1:')\n",
        "print('-------------------')\n",
        "\n",
        "\n",
        "print('Valores propios de W:')\n",
        "vapW, eigW = np.linalg.eig(W.value)\n",
        "print('vapw',vapW)\n",
        "#print('eigw',eigW)\n",
        "\n"
      ],
      "execution_count": 15,
      "outputs": [
        {
          "output_type": "stream",
          "text": [
            "----------------------------------------------------------------------------\n",
            "\tSCS v2.1.0 - Splitting Conic Solver\n",
            "\t(c) Brendan O'Donoghue, Stanford University, 2012\n",
            "----------------------------------------------------------------------------\n",
            "Lin-sys: sparse-direct, nnz in A = 288\n",
            "eps = 1.00e-04, alpha = 1.50, max_iters = 5000, normalize = 1, scale = 1.00\n",
            "acceleration_lookback = 10, rho_x = 1.00e-03\n",
            "Variables n = 105, constraints m = 135\n",
            "Cones:\tprimal zero / dual free vars: 65\n",
            "\tlinear vars: 15\n",
            "\tsd vars: 55, sd blks: 1\n",
            "Setup time: 7.37e-03s\n",
            "----------------------------------------------------------------------------\n",
            " Iter | pri res | dua res | rel gap | pri obj | dua obj | kap/tau | time (s)\n",
            "----------------------------------------------------------------------------\n",
            "     0| 1.32e+20  4.65e+19  1.00e+00 -8.91e+21  5.36e+20  8.19e+21  1.09e-02 \n",
            "   100| 8.40e-06  1.01e-05  2.32e-06  1.48e+02  1.48e+02  4.03e-14  2.55e-02 \n",
            "----------------------------------------------------------------------------\n",
            "Status: Solved\n",
            "Timing: Solve time: 2.56e-02s\n",
            "\tLin-sys: nnz in L factor: 585, avg solve time: 3.73e-06s\n",
            "\tCones: avg projection time: 1.63e-04s\n",
            "\tAcceleration: avg step time: 1.99e-05s\n",
            "----------------------------------------------------------------------------\n",
            "Error metrics:\n",
            "dist(s, K) = 8.3652e-10, dist(y, K*) = 2.3004e-09, s'y/|s||y| = 6.0447e-11\n",
            "primal res: |Ax + s - b|_2 / (1 + |b|_2) = 8.4024e-06\n",
            "dual res:   |A'y + c|_2 / (1 + |c|_2) = 1.0125e-05\n",
            "rel gap:    |c'x + b'y| / (1 + |c'x| + |b'y|) = 2.3181e-06\n",
            "----------------------------------------------------------------------------\n",
            "c'x = 148.3036, -b'y = 148.3029\n",
            "============================================================================\n",
            "\n",
            "\n",
            "RESULTADOS:\n",
            "El costo óptimo es 14830.362160335202\n",
            "\n",
            "La generacion optima es [ 4.00020315e+01  1.69999284e+02  1.90681982e+02 -2.36091133e-03\n",
            "  5.99997944e+02]\n",
            "La generacion por barra es [ 2.10001321e+02 -7.13459473e-05  1.90681915e+02 -2.38220586e-03\n",
            "  5.99997943e+02]\n",
            "pb es [ 210.00132488 -300.00022898 -109.31824104 -400.00251811  599.99794637]\n",
            "En cada barra, se inyecta [ 210.00132488 -300.00022898 -109.31824104 -400.00251811  599.99794637]\n",
            "\n",
            "\n",
            "Checkeo: W rango 1:\n",
            "-------------------\n",
            "Valores propios de W:\n",
            "vapw [ 5.50013758e+00-2.77564960e-17j  1.15251597e-05+4.77680480e-17j\n",
            "  1.84573024e-06+2.26411995e-16j -9.88699283e-06-1.56368300e-16j\n",
            " -6.53781257e-06-1.13576082e-16j]\n",
            "voltaje:\n",
            "[1.04882713 0.74546838 1.26965761 1.16089675 0.94056601]\n"
          ],
          "name": "stdout"
        }
      ]
    },
    {
      "cell_type": "code",
      "metadata": {
        "id": "xTI6GIR4S0Im",
        "colab_type": "code",
        "colab": {
          "base_uri": "https://localhost:8080/",
          "height": 306
        },
        "outputId": "f744d332-6094-4d4d-b2d4-d05df18f0f91"
      },
      "source": [
        "voltaje=eigW[:,0]*np.sqrt(vapW[0])\n",
        "print('voltaje:')\n",
        "\n",
        "\n",
        "#np.linalg.trace(W.value-X.value-1j*Y.value)\n",
        "print(W.value)\n",
        "print(X.value)\n",
        "print(abs(voltaje)*abs(voltaje))\n"
      ],
      "execution_count": 25,
      "outputs": [
        {
          "output_type": "stream",
          "text": [
            "voltaje:\n",
            "[[1.10003658+0.j         1.09642196+0.08918243j 1.09624487+0.09103729j\n",
            "  1.09818706+0.06372407j 1.09984492-0.02030122j]\n",
            " [1.09642196-0.08918243j 1.10004263+0.j         1.10002293+0.00185691j\n",
            "  1.09974326-0.02552252j 1.09458039-0.10940995j]\n",
            " [1.09624487-0.09103729j 1.10002293-0.00185691j 1.10001161+0.j\n",
            "  1.09967351-0.02737405j 1.09436912-0.11125511j]\n",
            " [1.09818706-0.06372407j 1.09974326+0.02552252j 1.09967351+0.02737405j\n",
            "  1.10002171+0.j         1.0968154 -0.08398208j]\n",
            " [1.09984492+0.02030122j 1.09458039+0.10940995j 1.09436912+0.11125511j\n",
            "  1.0968154 +0.08398208j 1.10002199+0.j        ]]\n",
            "[[1.10002846 1.09642188 1.09624494 1.09818708 1.09984497]\n",
            " [1.09642188 1.10002727 1.10002225 1.09974328 1.09458043]\n",
            " [1.09624494 1.10002225 1.10003412 1.09967339 1.09436919]\n",
            " [1.09818708 1.09974328 1.09967339 1.10000443 1.0968154 ]\n",
            " [1.09984497 1.09458043 1.09436919 1.0968154  1.10001575]]\n",
            "[1.10003835 1.10004624 1.10000388 1.10002669 1.10002242]\n"
          ],
          "name": "stdout"
        }
      ]
    },
    {
      "cell_type": "code",
      "metadata": {
        "id": "QIwDqA37sNiF",
        "colab_type": "code",
        "colab": {}
      },
      "source": [
        ""
      ],
      "execution_count": 0,
      "outputs": []
    },
    {
      "cell_type": "code",
      "metadata": {
        "id": "CyQhXNyPsN-V",
        "colab_type": "code",
        "colab": {}
      },
      "source": [
        ""
      ],
      "execution_count": 0,
      "outputs": []
    },
    {
      "cell_type": "markdown",
      "metadata": {
        "id": "nTP0of9J98bg",
        "colab_type": "text"
      },
      "source": [
        "a) Obtener los multiplicadores de Lagrange de las distintas restricciones e interpretarlos.\n",
        "\n",
        "b) Reflexionar sobre qué sucedería si se modificaran los costos de generación y luego correr el problema con nuevos costos.\n",
        "\n",
        "c) Reflexionar sobre qué sucedería si se modificaran los límites de las líneas y luego correr el problema con nuevos costos.\n",
        "\n"
      ]
    },
    {
      "cell_type": "markdown",
      "metadata": {
        "id": "SAux8TYWDjkf",
        "colab_type": "text"
      },
      "source": [
        ""
      ]
    },
    {
      "cell_type": "code",
      "metadata": {
        "id": "tpJFA8rIDmll",
        "colab_type": "code",
        "colab": {}
      },
      "source": [
        "#Escribir código aquí"
      ],
      "execution_count": 0,
      "outputs": []
    }
  ]
}